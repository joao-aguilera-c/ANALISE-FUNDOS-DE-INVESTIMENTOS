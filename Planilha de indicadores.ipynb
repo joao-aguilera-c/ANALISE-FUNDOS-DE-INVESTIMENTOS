{
 "cells": [
  {
   "cell_type": "code",
   "execution_count": 1,
   "id": "093de811",
   "metadata": {
    "scrolled": false
   },
   "outputs": [
    {
     "data": {
      "application/vnd.jupyter.widget-view+json": {
       "model_id": "22fe12d56251439aa35d4f1409d3d826",
       "version_major": 2,
       "version_minor": 0
      },
      "text/plain": [
       "QgridWidget(grid_options={'fullWidthRows': True, 'syncColumnCellResize': False, 'forceFitColumns': False, 'row…"
      ]
     },
     "metadata": {},
     "output_type": "display_data"
    }
   ],
   "source": [
    "import qgrid\n",
    "import pandas as pd\n",
    "import numpy as np\n",
    "\n",
    "qgrid.set_defaults(grid_options={\n",
    "            'fullWidthRows': True,\n",
    "            'syncColumnCellResize': False,\n",
    "            'forceFitColumns': False,\n",
    "            'rowHeight': 28,\n",
    "            'defaultColumnWidth': 150,\n",
    "            'enableColumnReorder': True,\n",
    "            'enableTextSelectionOnCells': True,\n",
    "            'editable': True,\n",
    "            'autoEdit': False\n",
    "        })\n",
    "pd.set_option('display.max_rows', 10)\n",
    "desempenho_df = pd.read_csv('desempenho.csv', index_col='CNPJ_FUNDO')\n",
    "\n",
    "desempenho_df.dropna(subset = [\"retorno_ytd\"], inplace=True, axis=0)\n",
    "\n",
    "fi_exclusivo = pd.read_csv('fi_exclusivo.csv', index_col='CNPJ_FUNDO')\n",
    "desempenho_df = pd.merge(desempenho_df, fi_exclusivo, on='CNPJ_FUNDO', how='left')\n",
    "\n",
    "unique_info = pd.read_csv('unique_fi_info.csv', index_col='CNPJ_FUNDO')\n",
    "unique_info.drop(unique_info.columns.difference(['nomeAbreviado', 'investidorQualificado', 'idade', 'classe']), 1, inplace=True)\n",
    "desempenho_df = pd.merge(desempenho_df, unique_info, on='CNPJ_FUNDO', how='left')\n",
    "\n",
    "max_one_day_return_df = pd.read_csv('max_one_day_return.csv', index_col='CNPJ_FUNDO')\n",
    "\n",
    "desempenho_df = pd.merge(desempenho_df, max_one_day_return_df, on='CNPJ_FUNDO', how='left')\n",
    "\n",
    "n_cotistas_df = pd.read_csv('n_cotistas.csv', index_col='CNPJ_FUNDO')\n",
    "desempenho_df = pd.merge(desempenho_df, n_cotistas_df, on='CNPJ_FUNDO', how='left')\n",
    "\n",
    "\n",
    "desempenho_df.replace([np.inf, -np.inf], np.nan, inplace=True)\n",
    "desempenho_df.dropna(subset = [\"max_one_day_return\"], inplace=True, axis=0)\n",
    "desempenho_df.dropna(subset = [\"retorno_3_anos\"], inplace=True, axis=0)\n",
    "desempenho_df = desempenho_df[desempenho_df.max_one_day_return < 2]\n",
    "desempenho_df = desempenho_df[desempenho_df.investidorQualificado == False]\n",
    "desempenho_df = desempenho_df[desempenho_df.fundo_exclusivo == False]\n",
    "desempenho_df = desempenho_df[desempenho_df.n_cotistas > 100]\n",
    "\n",
    "cols = ['nomeAbreviado', 'retorno_ytd', 'average_daily_returns', 'cumulative_returns', 'idade', 'annualized_sharpe', \n",
    "        'n_cotistas', 'classe',  'retorno_2020', 'retorno_1_mes', 'retorno_3_meses', 'retorno_1_ano', 'traynor_cdi_1ano', \n",
    "        'traynor_ibov_1ano', 'traynor_snp_1ano', 'retorno_3_anos', 'traynor_cdi_3ano', 'traynor_ibov_3ano', \n",
    "        'traynor_snp_3ano', 'retorno_5_anos', 'traynor_cdi_5ano', 'traynor_ibov_5ano', 'traynor_snp_5ano', \n",
    "        'retorno_10_anos', 'traynor_cdi_10ano', 'traynor_ibov_10ano', 'traynor_snp_10ano', 'fundo_exclusivo', \n",
    "        'investidorQualificado', 'max_one_day_return']\n",
    "desempenho_df = desempenho_df[cols]\n",
    "widget = qgrid.show_grid(desempenho_df)\n",
    "widget\n"
   ]
  },
  {
   "cell_type": "markdown",
   "id": "b44de7c4",
   "metadata": {},
   "source": [
    "pontos positivos de um fundo:\n",
    "    idade alta\n",
    "    sharpe alto\n",
    "    average daily returns alto\n",
    "\n",
    "pontos negativos de um fundo:\n",
    "    volatilidade alta\n",
    "\n",
    "https://monetus.com.br/comparador/metodologia"
   ]
  }
 ],
 "metadata": {
  "kernelspec": {
   "display_name": "Python 3",
   "language": "python",
   "name": "python3"
  },
  "language_info": {
   "codemirror_mode": {
    "name": "ipython",
    "version": 3
   },
   "file_extension": ".py",
   "mimetype": "text/x-python",
   "name": "python",
   "nbconvert_exporter": "python",
   "pygments_lexer": "ipython3",
   "version": "3.9.4"
  }
 },
 "nbformat": 4,
 "nbformat_minor": 5
}
